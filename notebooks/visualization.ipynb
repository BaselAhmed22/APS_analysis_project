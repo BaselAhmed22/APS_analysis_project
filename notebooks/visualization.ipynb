{
 "cells": [
  {
   "cell_type": "code",
   "execution_count": null,
   "id": "4812a9cd",
   "metadata": {},
   "outputs": [],
   "source": [
    "import pandas as pd # Importing pandas for data manipulation\n",
    "import matplotlib.pyplot as plt # Importing matplotlib for plotting\n",
    "import seaborn as sns # Importing seaborn for enhanced visualization\n",
    "\n",
    "# Load the cleaned dataset\n",
    "new_df = pd.read_csv(\"C:\\\\Users\\\\USER\\\\Desktop\\\\py\\\\APS_analysis\\\\data\\\\processed\\\\cleaned_data.csv\")\n",
    "pd.set_option('display.max_columns', None) # Show all columns in the DataFrame"
   ]
  },
  {
   "cell_type": "code",
   "execution_count": null,
   "id": "88891801",
   "metadata": {},
   "outputs": [],
   "source": [
    "catg_cols = ['gender', 'type of travel', 'class', 'customer type', 'satisfaction'] # categorical columns\n",
    "num_cols = ['age', 'flight distance', 'departure delay in minutes', 'arrival delay in minutes'] # numerical columns\n",
    "\n",
    "review_cols = ['inflight wifi service', 'departure/arrival time convenient', 'ease of online booking', 'gate location', 'food and drink', 'online boarding', 'seat comfort', \n",
    "                 'inflight entertainment', 'on board service', 'leg room service', 'baggage handling', 'checkin service', 'inflight service', 'cleanliness'] # review columns"
   ]
  },
  {
   "cell_type": "code",
   "execution_count": null,
   "id": "b67b94d8",
   "metadata": {},
   "outputs": [],
   "source": [
    "# Plotting Countplots for categorical columns\n",
    "fig, axes = plt.subplots(len(catg_cols), 3, figsize=(10, 5*len(catg_cols)), constrained_layout=True) # Create subplot grid\n",
    "axes = axes.flatten() # Flatten into 1D list for easy iteration\n",
    "\n",
    "for ax, col in zip(axes, catg_cols): # Loop over categorical columns\n",
    "    sns.countplot(data=new_df, x=col, hue=col, ax=ax, palette=\"viridis\", legend=False)  # Bar plot counts for each category\n",
    "    ax.tick_params(axis='x') # Format X-axis ticks\n",
    "\n",
    "    # Calculate and print percentages for each category\n",
    "    print(f\"\\nStatistics for '{col}'\")\n",
    "    col_percentages = new_df[col].value_counts(normalize=True).mul(100).round(2) # Percentage of each category\n",
    "    print(col_percentages)\n",
    "    print(\"-\" * (25 + len(col)))\n",
    "\n",
    "# Hide any unused subplots if the number of plots is not a perfect multiple\n",
    "for j in range(len(catg_cols), len(axes)):\n",
    "    fig.delaxes(axes[j])\n",
    "\n",
    "plt.show()"
   ]
  },
  {
   "cell_type": "code",
   "execution_count": null,
   "id": "5a02a456",
   "metadata": {},
   "outputs": [],
   "source": [
    "# Plotting Histograms for numerical columns\n",
    "fig, axes = plt.subplots(len(num_cols), 2, figsize=(10, 5*len(num_cols)), constrained_layout=True)\n",
    "axes = axes.flatten()\n",
    "\n",
    "for ax, col in zip(axes, num_cols): # Loop over numerical columns\n",
    "    sns.histplot(data=new_df, x=col, kde=True, ax=ax, color='red') # Histogram with KDE line\n",
    "    \n",
    "# Hide any unused subplots if the number of plots is not a perfect multiple\n",
    "for j in range(len(num_cols), len(axes)):\n",
    "    fig.delaxes(axes[j])\n",
    "\n",
    "plt.show()\n",
    "\n",
    "# Print descriptive statistics for all numerical columns\n",
    "print(\"\\nDescriptive Statistics for Numerical Columns\")\n",
    "print(new_df[num_cols].describe().round(2))\n",
    "print(\"-\" * 50)"
   ]
  },
  {
   "cell_type": "code",
   "execution_count": null,
   "id": "5ca5c479",
   "metadata": {},
   "outputs": [],
   "source": [
    "# Create a single large figure for all service ratings\n",
    "# We have 14 review columns, so a 3x5 grid is suitable (3*5=15 plots)\n",
    "fig, axes = plt.subplots(3, 5, figsize=(20, 12)) # 3x5 grid for 14 plots\n",
    "fig.suptitle('Mean Service Ratings by Class', fontsize=22, y=1.0)\n",
    "axes = axes.flatten() # Flatten the 3x5 grid into a 1D array\n",
    "\n",
    "# Loop through all review columns and plot them\n",
    "for i, col in enumerate(review_cols):\n",
    "    ax = axes[i] # Select the appropriate subplot\n",
    "    sns.barplot(data=new_df, x='class', y=col, hue= 'class', ax=ax, palette=\"deep\", errorbar=None) # Average rating by class\n",
    "    ax.set_title(col, fontsize=11)\n",
    "    ax.set_xlabel('')\n",
    "    ax.set_ylabel('Mean Rating')\n",
    "\n",
    "    ax.tick_params(axis='x', rotation=45)\n",
    "\n",
    "    # Add average values above each bar\n",
    "    for container in ax.containers:\n",
    "        ax.bar_label(container, label_type='center', fmt='%.2f%%', color='black', fontsize= 10)\n",
    "\n",
    "# Hide any unused subplots if the number of plots is not a perfect multiple\n",
    "for j in range(len(review_cols), len(axes)):\n",
    "        fig.delaxes(axes[j])\n",
    "\n",
    "fig.subplots_adjust(top=0.93, hspace=0.7, wspace=0.6)\n",
    "plt.show()\n",
    "\n",
    "print(f\"\\n--- Mean Scores for All Services ---\")\n",
    "all_mean_scores = new_df.groupby('class')[review_cols].mean().round(2)\n",
    "print(all_mean_scores.T)\n",
    "print(\"-\" * 50)\n"
   ]
  },
  {
   "cell_type": "code",
   "execution_count": null,
   "id": "8bafc1df",
   "metadata": {},
   "outputs": [],
   "source": [
    "# plotting a scatter plot to visualize the relationship between departure delay and arrival delay\n",
    "fig, ax = plt.subplots(figsize=(10, 6), constrained_layout=True) \n",
    "sns.scatterplot(data=new_df, x='departure delay in minutes', y='arrival delay in minutes',\n",
    "                hue='satisfaction', style='satisfaction', ax=ax, palette=\"magma\") \n",
    "\n",
    "plt.title(\"Departure Delay vs Arrival Delay by Satisfaction\")\n",
    "plt.xlabel(\"Departure Delay in Minutes\")\n",
    "plt.ylabel(\"Arrival Delay in Minutes\")\n",
    "plt.show()\n",
    "\n",
    " # Print correlation and mean delays by satisfaction\n",
    "print(\"\\n--- Delay Statistics by Satisfaction ---\")\n",
    "delay_corr = new_df[['departure delay in minutes', 'arrival delay in minutes']].corr().iloc[0, 1]\n",
    "print(f\"Correlation between Departure and Arrival Delay: {delay_corr:.2f}\")\n",
    "print(\"\\nMean Delays (in minutes):\")\n",
    "print(new_df.groupby('satisfaction')[['departure delay in minutes', 'arrival delay in minutes']].mean().round(2))\n",
    "print(\"-\" * 50)"
   ]
  },
  {
   "cell_type": "code",
   "execution_count": null,
   "id": "77be5142",
   "metadata": {},
   "outputs": [],
   "source": [
    "# plotting a correlation heatmap for numerical and review columns\n",
    "plt.figure(figsize=(12, 8), constrained_layout=True)\n",
    "corr = new_df[num_cols + review_cols].corr()\n",
    "\n",
    "sns.heatmap(corr, annot=False, cmap='coolwarm', fmt=\".2f\", annot_kws={\"size\": 8}, linewidths=.5, cbar_kws={\"shrink\": .8})\n",
    "plt.title(\"Correlation Heatmap\")\n",
    "plt.show()"
   ]
  },
  {
   "cell_type": "code",
   "execution_count": null,
   "id": "9474b00e",
   "metadata": {},
   "outputs": [],
   "source": [
    "# Calculate percentages for the table\n",
    "stacked_data = new_df.groupby('class')['satisfaction'].value_counts(normalize=True).mul(100).round(2).unstack()\n",
    "\n",
    "# Create the plot\n",
    "ax = stacked_data.plot(kind='bar', stacked=True, figsize=(10, 7), colormap=\"vlag\", edgecolor='black')\n",
    "plt.title(\"Satisfaction by Class (%)\", fontsize=16)\n",
    "plt.ylabel(\"Percentage of Passengers\")\n",
    "plt.xticks(rotation=0)\n",
    "\n",
    "# Add percentage labels inside the stacked bars\n",
    "for container in ax.containers: \n",
    "    # The label_type='center' places the text in the middle of the bar segment\n",
    "    ax.bar_label(container, label_type='center', fmt='%.1f%%', color='white', weight='bold')\n",
    "\n",
    "plt.legend(title='Satisfaction', bbox_to_anchor=(1.02, 1), loc='upper left')\n",
    "plt.tight_layout(rect=[0, 0, 0.85, 1]) # Adjust layout to make space for legend\n",
    "plt.show()\n",
    "\n",
    "# Print the percentage table\n",
    "print(\"\\nSatisfaction Percentage by Class\")\n",
    "print(stacked_data)"
   ]
  },
  {
   "cell_type": "code",
   "execution_count": null,
   "id": "092a1cc8",
   "metadata": {},
   "outputs": [],
   "source": []
  }
 ],
 "metadata": {
  "kernelspec": {
   "display_name": ".venv",
   "language": "python",
   "name": "python3"
  },
  "language_info": {
   "codemirror_mode": {
    "name": "ipython",
    "version": 3
   },
   "file_extension": ".py",
   "mimetype": "text/x-python",
   "name": "python",
   "nbconvert_exporter": "python",
   "pygments_lexer": "ipython3",
   "version": "3.13.2"
  }
 },
 "nbformat": 4,
 "nbformat_minor": 5
}
