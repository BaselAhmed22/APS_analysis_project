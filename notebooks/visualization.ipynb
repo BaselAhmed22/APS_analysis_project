{
 "cells": [
  {
   "cell_type": "code",
   "execution_count": null,
   "id": "4812a9cd",
   "metadata": {},
   "outputs": [],
   "source": [
    "import pandas as pd\n",
    "import matplotlib.pyplot as plt\n",
    "import seaborn as sns\n",
    "\n",
    "new_df = pd.read_csv(\"C:\\\\Users\\\\USER\\\\Desktop\\\\py\\\\APS_analysis\\\\data\\\\processed\\\\cleaned_data.csv\")\n",
    "pd.set_option('display.max_columns', None)"
   ]
  },
  {
   "cell_type": "code",
   "execution_count": null,
   "id": "88891801",
   "metadata": {},
   "outputs": [],
   "source": [
    "catg_cols = ['gender', 'type of travel', 'class', 'customer type', 'satisfaction'] # categorical columns\n",
    "num_cols = ['age', 'flight distance', 'departure delay in minutes', 'arrival delay in minutes'] # numerical columns\n",
    "\n",
    "review_cols = ['inflight wifi service', 'departure/arrival time convenient', \n",
    "               'ease of online booking', 'gate location'] # review columns\n",
    "\n",
    "review_cols_2 = ['food and drink', 'online boarding', 'seat comfort', \n",
    "                 'inflight entertainment', 'on board service'] # additional review columns\n",
    "\n",
    "review_cols_3 = ['leg room service', 'baggage handling', 'checkin service', \n",
    "                 'inflight service', 'cleanliness'] # another set of review columns"
   ]
  },
  {
   "cell_type": "code",
   "execution_count": null,
   "id": "b67b94d8",
   "metadata": {},
   "outputs": [],
   "source": [
    "# Plotting Countplots for categorical columns\n",
    "\n",
    "fig, axes = plt.subplots(len(catg_cols), 3, figsize=(10, 5*len(catg_cols)), constrained_layout=True)\n",
    "axes = axes.flatten()\n",
    "\n",
    "for ax, col in zip(axes, catg_cols):\n",
    "    sns.countplot(data=new_df, x=col, hue=col, ax=ax, palette=\"viridis\", legend=False)\n",
    "    ax.tick_params(axis='x')\n",
    "\n",
    "for j in range(len(catg_cols), len(axes)):\n",
    "    fig.delaxes(axes[j])\n",
    "\n",
    "plt.show()"
   ]
  },
  {
   "cell_type": "code",
   "execution_count": null,
   "id": "5a02a456",
   "metadata": {},
   "outputs": [],
   "source": [
    "# Plotting Histograms for numerical columns\n",
    "fig, axes = plt.subplots(len(num_cols), 2, figsize=(10, 5*len(num_cols)), constrained_layout=True)\n",
    "axes = axes.flatten()\n",
    "\n",
    "for ax, col in zip(axes, num_cols):\n",
    "    sns.histplot(data=new_df, x=col, kde=True, ax=ax, color='red')\n",
    "    \n",
    "\n",
    "for j in range(len(num_cols), len(axes)):\n",
    "    fig.delaxes(axes[j])\n",
    "\n",
    "plt.show()"
   ]
  },
  {
   "cell_type": "code",
   "execution_count": null,
   "id": "718c5f37",
   "metadata": {},
   "outputs": [],
   "source": [
    "# plotting bar plots for review columns\n",
    "fig, axes = plt.subplots(1, len(review_cols), figsize=(5*len(review_cols), 10), constrained_layout=True)\n",
    "fig.suptitle('Comparison of Service Ratings by Class', fontsize=16)\n",
    "axes = axes.flatten()\n",
    "\n",
    "for ax, col in zip(axes, review_cols):\n",
    "    sns.barplot(data=new_df, x='class', y=col, hue='class', ax=ax, palette=\"deep\", legend=False)\n",
    "    \n",
    "    ax.tick_params(axis='x')\n",
    "\n",
    "for j in range(len(review_cols), len(axes)):\n",
    "    fig.delaxes(axes[j])\n",
    "\n",
    "plt.show()"
   ]
  },
  {
   "cell_type": "code",
   "execution_count": null,
   "id": "d40b2c50",
   "metadata": {},
   "outputs": [],
   "source": [
    "# plotting bar plots for review columns\n",
    "fig, axes = plt.subplots(1, len(review_cols_2), figsize=(5*len(review_cols_2), 10), constrained_layout=True)\n",
    "axes = axes.flatten()\n",
    "\n",
    "for ax, col in zip(axes, review_cols_2):\n",
    "    sns.barplot(data=new_df, x='class', y=col, hue='class', ax=ax, palette=\"deep\", legend=False)\n",
    "    ax.set_title(f\"Bar Plot: {col} vs Class\")\n",
    "    ax.tick_params(axis='x', rotation=30)\n",
    "\n",
    "for j in range(len(review_cols_2), len(axes)):\n",
    "    fig.delaxes(axes[j])\n",
    "\n",
    "\n",
    "plt.show()"
   ]
  },
  {
   "cell_type": "code",
   "execution_count": null,
   "id": "0cf7f7af",
   "metadata": {},
   "outputs": [],
   "source": [
    "# plotting bar plots for review columns\n",
    "fig, axes = plt.subplots(1, len(review_cols_3), figsize=(5*len(review_cols_3), 10), constrained_layout=True)\n",
    "fig.suptitle('Comparison of Service Ratings by Class', fontsize=16)\n",
    "axes = axes.flatten()\n",
    "\n",
    "for ax, col in zip(axes, review_cols_3):\n",
    "    sns.barplot(data=new_df, x='class', y=col, hue='class', ax=ax, palette=\"deep\", legend=False)\n",
    "    \n",
    "    ax.tick_params(axis='x')\n",
    "\n",
    "for j in range(len(review_cols_3), len(axes)):\n",
    "    fig.delaxes(axes[j])\n",
    "    \n",
    "plt.show()\n"
   ]
  },
  {
   "cell_type": "code",
   "execution_count": null,
   "id": "8bafc1df",
   "metadata": {},
   "outputs": [],
   "source": [
    "# plotting a scatter plot to visualize the relationship between departure delay and arrival delay\n",
    "fig, ax = plt.subplots(figsize=(10, 6), constrained_layout=True)\n",
    "sns.scatterplot(data=new_df, x='departure delay in minutes', y='arrival delay in minutes',\n",
    "                hue='satisfaction', style='satisfaction', ax=ax, palette=\"magma\")\n",
    "\n",
    "plt.title(\"Departure Delay vs Arrival Delay by Satisfaction\")\n",
    "plt.xlabel(\"Departure Delay in Minutes\")\n",
    "plt.ylabel(\"Arrival Delay in Minutes\")\n",
    "plt.show()\n"
   ]
  },
  {
   "cell_type": "code",
   "execution_count": null,
   "id": "77be5142",
   "metadata": {},
   "outputs": [],
   "source": [
    "# plotting a correlation heatmap for numerical and review columns\n",
    "plt.figure(figsize=(12, 8), constrained_layout=True)\n",
    "corr = new_df[num_cols + review_cols + review_cols_2 + review_cols_3].corr()\n",
    "\n",
    "sns.heatmap(corr, annot=False, cmap='coolwarm')\n",
    "plt.title(\"Correlation Heatmap\")\n",
    "plt.show()\n"
   ]
  },
  {
   "cell_type": "code",
   "execution_count": null,
   "id": "6aa8c431",
   "metadata": {},
   "outputs": [],
   "source": [
    "# plotting a stacked bar chart for satisfaction by class\n",
    "stacked_data = new_df.groupby(['class', 'satisfaction']).size().unstack()\n",
    "stacked_data.plot(kind='bar', stacked=True, figsize=(8, 6), colormap=\"vlag\")\n",
    "plt.title(\"Satisfaction by Class\")\n",
    "\n",
    "plt.tight_layout()\n",
    "plt.show()\n",
    "\n",
    "print(\"Visualization completed successfully!\")"
   ]
  }
 ],
 "metadata": {
  "kernelspec": {
   "display_name": ".venv",
   "language": "python",
   "name": "python3"
  },
  "language_info": {
   "codemirror_mode": {
    "name": "ipython",
    "version": 3
   },
   "file_extension": ".py",
   "mimetype": "text/x-python",
   "name": "python",
   "nbconvert_exporter": "python",
   "pygments_lexer": "ipython3",
   "version": "3.13.2"
  }
 },
 "nbformat": 4,
 "nbformat_minor": 5
}
